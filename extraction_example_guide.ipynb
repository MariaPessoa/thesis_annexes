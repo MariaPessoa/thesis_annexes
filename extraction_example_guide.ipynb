{
 "cells": [
  {
   "cell_type": "markdown",
   "id": "72d6d738",
   "metadata": {},
   "source": [
    "## Software dependencies"
   ]
  },
  {
   "cell_type": "markdown",
   "id": "2c8553e5",
   "metadata": {},
   "source": [
    "- Troppo package (Github \"dev\" branch: https://github.com/BioSystemsUM/troppo/tree/dev)\n",
    "- cobamp package (Github \"dev\" branch: https://github.com/BioSystemsUM/cobamp/tree/dev)\n",
    "- CPLEX solver 12.9 (requires academic license: https://www.ibm.com/products/ilog-cplex-optimization-studio/pricing)\n",
    "    - Does not work with Python versions >= 3.8. Please check the compatiblity between the installed Python versions and the corresponding CPLEX solvers.\n",
    "- \"reconstruction.py\" example code (Github \"CODE\" subfolder: https://github.com/MariaPessoa/thesis_annexes/tree/main/CODE)\n",
    "- cobrapy, pandas & numpy packages\n"
   ]
  },
  {
   "cell_type": "markdown",
   "id": "cfb25aa3",
   "metadata": {},
   "source": [
    "NOTE: As context-specific model extraction can be a lengthy process, using a computer cluster is recommended. "
   ]
  },
  {
   "cell_type": "markdown",
   "id": "36096b3b",
   "metadata": {},
   "source": [
    "## Extraction input files and parameters"
   ]
  },
  {
   "cell_type": "markdown",
   "id": "ea2a0f26",
   "metadata": {},
   "source": [
    "Model extraction refers to the process of the extraction of a context-specific model (CSM) from a generic template model by a reconstruction algorithm, based on omics data. The Troppo package’s model extraction pipeline requires a template model, gene scores or gene expression data and an optional protected reaction set, such as reactions required by essential metabolic tasks, as direct input data. Additionally, Troppo requires the selection of the appropriate activity threshold, of the algorithm(s) with which to extract the CSMs and the gene mapping method. \n",
    "<p>In particular, the Troppo package’s implementation of (t)INIT does not accept a task file to determine which reactions to prioritize, but instead accepts a protected reaction set, similarly to fastCORE’s core reactions. Furthermore, the template model should not have blocked reactions, which can lead to extraction issues with fastCORE. After extraction, the pipeline outputs the reaction content of all CSMs. "
   ]
  },
  {
   "cell_type": "markdown",
   "id": "4bbff4f7",
   "metadata": {},
   "source": [
    "- gene-level TPM by tissue data (GTEx Project (v8) median TPM data: https://gtexportal.org/home/datasets)\n",
    "- generic template model (Human-GEM (v1.5, SBML/XML format): https://github.com/SysBioChalmers/Human-GEM/tree/v1.5.0)"
   ]
  },
  {
   "cell_type": "markdown",
   "id": "27d34066",
   "metadata": {},
   "source": [
    "### Pre-processing"
   ]
  },
  {
   "cell_type": "markdown",
   "id": "f23f18b8",
   "metadata": {},
   "source": [
    "The typical extraction process involves gene score thresholding strategy selection and subsequent conversion of gene expression data into gene scores. However, in this quick tutorial gene expression data pre-processing will follow the method used by Robinson et al. (2020), which simply sets a global activity threshold of 1 TPM, without any conversion process.\n",
    "<p>Likewise, although the inclusion of reactions required by essential tasks would lead to higher quality models, only a minimal set of protected reactions related to biomass will be considered. "
   ]
  },
  {
   "cell_type": "markdown",
   "id": "9c355883",
   "metadata": {},
   "source": [
    "Github documentation: https://sysbiochalmers.github.io/Human-GEM-guide/gem_extraction/"
   ]
  },
  {
   "cell_type": "code",
   "execution_count": 25,
   "id": "84cb22d6",
   "metadata": {},
   "outputs": [],
   "source": [
    "import os\n",
    "from cobra.io import read_sbml_model,write_sbml_model\n",
    "from cobra.flux_analysis import find_blocked_reactions\n",
    "import pandas as pd\n",
    "\n",
    "ROOT_FOLDER = \"C:\\\\Users\\\\liamo\\\\Documents\\\\BIOINF\\\\PRETHESIS\"\n",
    "model_path = os.path.join(ROOT_FOLDER,\"Human-GEM\",\"model\",\"Human-GEM.xml\")\n",
    "template_path = os.path.join(ROOT_FOLDER,\"Human-GEM\",\"model\",\"Human-GEM_ct.xml\")\n",
    "data_path = os.path.join(ROOT_FOLDER,\"DATA\",\"GTEx_Analysis_2017-06-05_v8_RNASeQCv1.1.9_gene_median_tpm.gct\")\n",
    "output_path = os.path.join(ROOT_FOLDER,\"DATA\",\"results\",\"gtl50_gtu90_lt50_fttinit_mediantpm4_csm_nodrugex.csv\")"
   ]
  },
  {
   "cell_type": "markdown",
   "id": "2cb3a0fc",
   "metadata": {},
   "source": [
    "#### Reference code for model pre-processing:"
   ]
  },
  {
   "cell_type": "markdown",
   "id": "d97d3300",
   "metadata": {},
   "source": [
    "As using cobrapy's \"find_blocked_reactions\" function may cause the \"TypeError: can't pickle SwigPyObject objects\" in Windows, this example will leave the code for reference but directly import the pre-processed template model instead. "
   ]
  },
  {
   "cell_type": "code",
   "execution_count": 12,
   "id": "f143734e",
   "metadata": {},
   "outputs": [],
   "source": [
    "model = read_sbml_model(model_path)"
   ]
  },
  {
   "cell_type": "code",
   "execution_count": 13,
   "id": "ffaacedc",
   "metadata": {},
   "outputs": [
    {
     "name": "stdout",
     "output_type": "stream",
     "text": [
      "Genes: 3626\n",
      "Reactions: 13096\n",
      "Metabolites: 8400\n"
     ]
    }
   ],
   "source": [
    "print(\"Genes:\",len(model.genes))\n",
    "print(\"Reactions:\",len(model.reactions))\n",
    "print(\"Metabolites:\",len(model.metabolites))"
   ]
  },
  {
   "cell_type": "code",
   "execution_count": null,
   "id": "692544c0",
   "metadata": {},
   "outputs": [],
   "source": [
    "blocked = find_blocked_reactions(model) \n",
    "model.remove_reactions(blocked) #may require \"remove_orphans=True\" depending on version \n",
    "write_sbml_model(model,'Human-GEM_ct.xml')"
   ]
  },
  {
   "cell_type": "markdown",
   "id": "2a51ff00",
   "metadata": {},
   "source": [
    "#### Template model"
   ]
  },
  {
   "cell_type": "code",
   "execution_count": 14,
   "id": "00c940c5",
   "metadata": {},
   "outputs": [],
   "source": [
    "template = read_sbml_model(template_path)"
   ]
  },
  {
   "cell_type": "code",
   "execution_count": 15,
   "id": "99077022",
   "metadata": {},
   "outputs": [
    {
     "name": "stdout",
     "output_type": "stream",
     "text": [
      "Genes: 3052\n",
      "Reactions: 11902\n",
      "Metabolites: 7140\n"
     ]
    }
   ],
   "source": [
    "print(\"Genes:\",len(template.genes))\n",
    "print(\"Reactions:\",len(template.reactions))\n",
    "print(\"Metabolites:\",len(template.metabolites))"
   ]
  },
  {
   "cell_type": "markdown",
   "id": "921515ca",
   "metadata": {},
   "source": [
    "#### Gene expression data"
   ]
  },
  {
   "cell_type": "markdown",
   "id": "fed92b72",
   "metadata": {},
   "source": [
    "The \"reconstruction.py\" script is expecting data with ENSEMBL IDs, in the format of samples x genes. "
   ]
  },
  {
   "cell_type": "code",
   "execution_count": 18,
   "id": "2c2e159d",
   "metadata": {},
   "outputs": [],
   "source": [
    "data_path = os.path.join(ROOT_FOLDER,\"DATA\",\"GTEx_Analysis_2017-06-05_v8_RNASeQCv1.1.9_gene_median_tpm.gct\")\n",
    "data = pd.read_csv(data_path,header=0,skiprows=[0,1],sep=\"\\t\",index_col=\"Name\").drop([\"Description\"],axis=1)"
   ]
  },
  {
   "cell_type": "code",
   "execution_count": 24,
   "id": "be0d7c5d",
   "metadata": {},
   "outputs": [
    {
     "data": {
      "text/plain": [
       "(56200, 54)"
      ]
     },
     "execution_count": 24,
     "metadata": {},
     "output_type": "execute_result"
    }
   ],
   "source": [
    "data.shape"
   ]
  },
  {
   "cell_type": "code",
   "execution_count": 20,
   "id": "4b2d0692",
   "metadata": {},
   "outputs": [
    {
     "data": {
      "text/html": [
       "<div>\n",
       "<style scoped>\n",
       "    .dataframe tbody tr th:only-of-type {\n",
       "        vertical-align: middle;\n",
       "    }\n",
       "\n",
       "    .dataframe tbody tr th {\n",
       "        vertical-align: top;\n",
       "    }\n",
       "\n",
       "    .dataframe thead th {\n",
       "        text-align: right;\n",
       "    }\n",
       "</style>\n",
       "<table border=\"1\" class=\"dataframe\">\n",
       "  <thead>\n",
       "    <tr style=\"text-align: right;\">\n",
       "      <th></th>\n",
       "      <th>Adipose - Subcutaneous</th>\n",
       "      <th>Adipose - Visceral (Omentum)</th>\n",
       "      <th>Adrenal Gland</th>\n",
       "      <th>Artery - Aorta</th>\n",
       "      <th>Artery - Coronary</th>\n",
       "    </tr>\n",
       "    <tr>\n",
       "      <th>Name</th>\n",
       "      <th></th>\n",
       "      <th></th>\n",
       "      <th></th>\n",
       "      <th></th>\n",
       "      <th></th>\n",
       "    </tr>\n",
       "  </thead>\n",
       "  <tbody>\n",
       "    <tr>\n",
       "      <th>ENSG00000223972.5</th>\n",
       "      <td>0.00000</td>\n",
       "      <td>0.00000</td>\n",
       "      <td>0.00000</td>\n",
       "      <td>0.00000</td>\n",
       "      <td>0.00000</td>\n",
       "    </tr>\n",
       "    <tr>\n",
       "      <th>ENSG00000227232.5</th>\n",
       "      <td>4.06403</td>\n",
       "      <td>3.37111</td>\n",
       "      <td>2.68549</td>\n",
       "      <td>4.04762</td>\n",
       "      <td>3.90076</td>\n",
       "    </tr>\n",
       "    <tr>\n",
       "      <th>ENSG00000278267.1</th>\n",
       "      <td>0.00000</td>\n",
       "      <td>0.00000</td>\n",
       "      <td>0.00000</td>\n",
       "      <td>0.00000</td>\n",
       "      <td>0.00000</td>\n",
       "    </tr>\n",
       "    <tr>\n",
       "      <th>ENSG00000243485.5</th>\n",
       "      <td>0.00000</td>\n",
       "      <td>0.00000</td>\n",
       "      <td>0.00000</td>\n",
       "      <td>0.00000</td>\n",
       "      <td>0.00000</td>\n",
       "    </tr>\n",
       "    <tr>\n",
       "      <th>ENSG00000237613.2</th>\n",
       "      <td>0.00000</td>\n",
       "      <td>0.00000</td>\n",
       "      <td>0.00000</td>\n",
       "      <td>0.00000</td>\n",
       "      <td>0.00000</td>\n",
       "    </tr>\n",
       "  </tbody>\n",
       "</table>\n",
       "</div>"
      ],
      "text/plain": [
       "                   Adipose - Subcutaneous  Adipose - Visceral (Omentum)  \\\n",
       "Name                                                                      \n",
       "ENSG00000223972.5                 0.00000                       0.00000   \n",
       "ENSG00000227232.5                 4.06403                       3.37111   \n",
       "ENSG00000278267.1                 0.00000                       0.00000   \n",
       "ENSG00000243485.5                 0.00000                       0.00000   \n",
       "ENSG00000237613.2                 0.00000                       0.00000   \n",
       "\n",
       "                   Adrenal Gland  Artery - Aorta  Artery - Coronary  \n",
       "Name                                                                 \n",
       "ENSG00000223972.5        0.00000         0.00000            0.00000  \n",
       "ENSG00000227232.5        2.68549         4.04762            3.90076  \n",
       "ENSG00000278267.1        0.00000         0.00000            0.00000  \n",
       "ENSG00000243485.5        0.00000         0.00000            0.00000  \n",
       "ENSG00000237613.2        0.00000         0.00000            0.00000  "
      ]
     },
     "execution_count": 20,
     "metadata": {},
     "output_type": "execute_result"
    }
   ],
   "source": [
    "data.iloc[:5,:5]"
   ]
  },
  {
   "cell_type": "markdown",
   "id": "45608593",
   "metadata": {},
   "source": [
    "#### Example extraction parameters for use in reconstruction.py"
   ]
  },
  {
   "cell_type": "markdown",
   "id": "1dd84ede",
   "metadata": {},
   "source": [
    "- Reconstruction algorithm(s): fastcore\n",
    "- Activity threshold: 1 (TPM)\n",
    "- Gene mapping: MINMAX\n",
    "- protected_reactions = [\"biomass_human\", \"HMR_10023\", \"HMR_10024\"]"
   ]
  },
  {
   "cell_type": "code",
   "execution_count": null,
   "id": "7a9994ef",
   "metadata": {},
   "outputs": [],
   "source": [
    "params = {'algorithms':['fastcore'],\n",
    "    'strategies': {'tinit': integration_strategy_map['adjusted_score'](protected_reactions),\n",
    "                  'fastcore': integration_strategy_map['default_core'](1, protected_reactions)}, \n",
    "    'functions':{'minmax': MINMAX}}"
   ]
  },
  {
   "cell_type": "markdown",
   "id": "050e8896",
   "metadata": {},
   "source": [
    "#### Example output"
   ]
  },
  {
   "cell_type": "code",
   "execution_count": 34,
   "id": "51a27f11",
   "metadata": {},
   "outputs": [
    {
     "data": {
      "text/html": [
       "<div>\n",
       "<style scoped>\n",
       "    .dataframe tbody tr th:only-of-type {\n",
       "        vertical-align: middle;\n",
       "    }\n",
       "\n",
       "    .dataframe tbody tr th {\n",
       "        vertical-align: top;\n",
       "    }\n",
       "\n",
       "    .dataframe thead th {\n",
       "        text-align: right;\n",
       "    }\n",
       "</style>\n",
       "<table border=\"1\" class=\"dataframe\">\n",
       "  <thead>\n",
       "    <tr style=\"text-align: right;\">\n",
       "      <th></th>\n",
       "      <th>Unnamed: 0</th>\n",
       "      <th>Unnamed: 2</th>\n",
       "      <th>HMR_3905</th>\n",
       "      <th>HMR_3907</th>\n",
       "      <th>HMR_4097</th>\n",
       "    </tr>\n",
       "  </thead>\n",
       "  <tbody>\n",
       "    <tr>\n",
       "      <th>Adipose - Subcutaneous</th>\n",
       "      <td>tinit</td>\n",
       "      <td>minmax</td>\n",
       "      <td>True</td>\n",
       "      <td>True</td>\n",
       "      <td>True</td>\n",
       "    </tr>\n",
       "    <tr>\n",
       "      <th>Breast - Mammary Tissue</th>\n",
       "      <td>tinit</td>\n",
       "      <td>minmax</td>\n",
       "      <td>True</td>\n",
       "      <td>True</td>\n",
       "      <td>True</td>\n",
       "    </tr>\n",
       "    <tr>\n",
       "      <th>Kidney - Cortex</th>\n",
       "      <td>tinit</td>\n",
       "      <td>minmax</td>\n",
       "      <td>True</td>\n",
       "      <td>True</td>\n",
       "      <td>True</td>\n",
       "    </tr>\n",
       "    <tr>\n",
       "      <th>Liver</th>\n",
       "      <td>tinit</td>\n",
       "      <td>minmax</td>\n",
       "      <td>True</td>\n",
       "      <td>True</td>\n",
       "      <td>True</td>\n",
       "    </tr>\n",
       "    <tr>\n",
       "      <th>Adipose - Subcutaneous</th>\n",
       "      <td>fastcore</td>\n",
       "      <td>minmax</td>\n",
       "      <td>True</td>\n",
       "      <td>True</td>\n",
       "      <td>True</td>\n",
       "    </tr>\n",
       "    <tr>\n",
       "      <th>Breast - Mammary Tissue</th>\n",
       "      <td>fastcore</td>\n",
       "      <td>minmax</td>\n",
       "      <td>True</td>\n",
       "      <td>True</td>\n",
       "      <td>True</td>\n",
       "    </tr>\n",
       "    <tr>\n",
       "      <th>Kidney - Cortex</th>\n",
       "      <td>fastcore</td>\n",
       "      <td>minmax</td>\n",
       "      <td>True</td>\n",
       "      <td>True</td>\n",
       "      <td>True</td>\n",
       "    </tr>\n",
       "    <tr>\n",
       "      <th>Liver</th>\n",
       "      <td>fastcore</td>\n",
       "      <td>minmax</td>\n",
       "      <td>True</td>\n",
       "      <td>True</td>\n",
       "      <td>True</td>\n",
       "    </tr>\n",
       "  </tbody>\n",
       "</table>\n",
       "</div>"
      ],
      "text/plain": [
       "                        Unnamed: 0 Unnamed: 2  HMR_3905  HMR_3907  HMR_4097\n",
       "Adipose - Subcutaneous       tinit     minmax      True      True      True\n",
       "Breast - Mammary Tissue      tinit     minmax      True      True      True\n",
       "Kidney - Cortex              tinit     minmax      True      True      True\n",
       "Liver                        tinit     minmax      True      True      True\n",
       "Adipose - Subcutaneous    fastcore     minmax      True      True      True\n",
       "Breast - Mammary Tissue   fastcore     minmax      True      True      True\n",
       "Kidney - Cortex           fastcore     minmax      True      True      True\n",
       "Liver                     fastcore     minmax      True      True      True"
      ]
     },
     "execution_count": 34,
     "metadata": {},
     "output_type": "execute_result"
    }
   ],
   "source": [
    "med = pd.read_csv(output_path,header=0,index_col=1)\n",
    "med.iloc[:,:5]"
   ]
  },
  {
   "cell_type": "markdown",
   "id": "6ecfa00f",
   "metadata": {},
   "source": [
    "As all models were extracted with the MINMAX gene mapping method, this column can be dropped on import. "
   ]
  },
  {
   "cell_type": "code",
   "execution_count": 35,
   "id": "4412430e",
   "metadata": {},
   "outputs": [],
   "source": [
    "med = pd.read_csv(output_path,header=0,index_col=1).drop([\"Unnamed: 2\"], axis=1)"
   ]
  },
  {
   "cell_type": "markdown",
   "id": "9cd8cf62",
   "metadata": {},
   "source": [
    "Fastcore models only:"
   ]
  },
  {
   "cell_type": "code",
   "execution_count": null,
   "id": "0d1e0067",
   "metadata": {},
   "outputs": [],
   "source": [
    "med.index = pd.MultiIndex.from_tuples([tuple(x.split(\"_\")) for x in med.index])\n",
    "med_ft = med.loc[med[\"Unnamed: 0\"]==\"fastcore\",:].drop([\"Unnamed: 0\"], axis=1)"
   ]
  },
  {
   "cell_type": "code",
   "execution_count": 28,
   "id": "5f4fcbb7",
   "metadata": {},
   "outputs": [
    {
     "data": {
      "text/plain": [
       "(4, 11386)"
      ]
     },
     "execution_count": 28,
     "metadata": {},
     "output_type": "execute_result"
    }
   ],
   "source": [
    "med_ft.shape"
   ]
  },
  {
   "cell_type": "code",
   "execution_count": 29,
   "id": "985599b7",
   "metadata": {},
   "outputs": [
    {
     "data": {
      "text/html": [
       "<div>\n",
       "<style scoped>\n",
       "    .dataframe tbody tr th:only-of-type {\n",
       "        vertical-align: middle;\n",
       "    }\n",
       "\n",
       "    .dataframe tbody tr th {\n",
       "        vertical-align: top;\n",
       "    }\n",
       "\n",
       "    .dataframe thead th {\n",
       "        text-align: right;\n",
       "    }\n",
       "</style>\n",
       "<table border=\"1\" class=\"dataframe\">\n",
       "  <thead>\n",
       "    <tr style=\"text-align: right;\">\n",
       "      <th></th>\n",
       "      <th>HMR_3905</th>\n",
       "      <th>HMR_3907</th>\n",
       "      <th>HMR_4097</th>\n",
       "      <th>HMR_4099</th>\n",
       "      <th>HMR_4108</th>\n",
       "    </tr>\n",
       "  </thead>\n",
       "  <tbody>\n",
       "    <tr>\n",
       "      <th>Adipose - Subcutaneous</th>\n",
       "      <td>True</td>\n",
       "      <td>True</td>\n",
       "      <td>True</td>\n",
       "      <td>False</td>\n",
       "      <td>True</td>\n",
       "    </tr>\n",
       "    <tr>\n",
       "      <th>Breast - Mammary Tissue</th>\n",
       "      <td>True</td>\n",
       "      <td>True</td>\n",
       "      <td>True</td>\n",
       "      <td>False</td>\n",
       "      <td>True</td>\n",
       "    </tr>\n",
       "    <tr>\n",
       "      <th>Kidney - Cortex</th>\n",
       "      <td>True</td>\n",
       "      <td>True</td>\n",
       "      <td>True</td>\n",
       "      <td>True</td>\n",
       "      <td>True</td>\n",
       "    </tr>\n",
       "    <tr>\n",
       "      <th>Liver</th>\n",
       "      <td>True</td>\n",
       "      <td>True</td>\n",
       "      <td>True</td>\n",
       "      <td>False</td>\n",
       "      <td>True</td>\n",
       "    </tr>\n",
       "  </tbody>\n",
       "</table>\n",
       "</div>"
      ],
      "text/plain": [
       "                         HMR_3905  HMR_3907  HMR_4097  HMR_4099  HMR_4108\n",
       "Adipose - Subcutaneous       True      True      True     False      True\n",
       "Breast - Mammary Tissue      True      True      True     False      True\n",
       "Kidney - Cortex              True      True      True      True      True\n",
       "Liver                        True      True      True     False      True"
      ]
     },
     "execution_count": 29,
     "metadata": {},
     "output_type": "execute_result"
    }
   ],
   "source": [
    "med_ft.iloc[:,:5]"
   ]
  },
  {
   "cell_type": "code",
   "execution_count": 33,
   "id": "d23c5d1d",
   "metadata": {},
   "outputs": [
    {
     "data": {
      "text/plain": [
       "Adipose - Subcutaneous     6498\n",
       "Breast - Mammary Tissue    6544\n",
       "Kidney - Cortex            5244\n",
       "Liver                      6497\n",
       "dtype: int64"
      ]
     },
     "execution_count": 33,
     "metadata": {},
     "output_type": "execute_result"
    }
   ],
   "source": [
    "med_ft.sum(axis=1)"
   ]
  },
  {
   "cell_type": "markdown",
   "id": "1dc7fd7b",
   "metadata": {},
   "source": [
    "To obtain individual model objects that can be exported to SBML format, for example, load the template model and remove all reactions not present in the CSM."
   ]
  },
  {
   "cell_type": "code",
   "execution_count": null,
   "id": "1288ba18",
   "metadata": {},
   "outputs": [],
   "source": [
    "all_reactions = set([r.id for r in template.reactions])\n",
    "\n",
    "for i,row in med_ft.iterrows(): #expects reaction content\n",
    "    # using with statements to change the COBRA model temporarily\n",
    "    # this is done to knock-out reaction not appearing in the FASTCORE result\n",
    "    with template as context_specific_model: \n",
    "        to_remove = row[(row==False)].index.to_list()\n",
    "        for r in to_remove: \n",
    "            # if r in all_reactions:\n",
    "            context_specific_model.reactions.get_by_id(r).knock_out() # knock-out reactions not in the model"
   ]
  }
 ],
 "metadata": {
  "kernelspec": {
   "display_name": "Python 3",
   "language": "python",
   "name": "python3"
  },
  "language_info": {
   "codemirror_mode": {
    "name": "ipython",
    "version": 3
   },
   "file_extension": ".py",
   "mimetype": "text/x-python",
   "name": "python",
   "nbconvert_exporter": "python",
   "pygments_lexer": "ipython3",
   "version": "3.7.8"
  }
 },
 "nbformat": 4,
 "nbformat_minor": 5
}
